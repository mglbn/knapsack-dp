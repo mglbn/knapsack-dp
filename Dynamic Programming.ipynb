{
 "cells": [
  {
   "cell_type": "markdown",
   "id": "729f38f5",
   "metadata": {},
   "source": [
    "### Problemgroesen:"
   ]
  },
  {
   "cell_type": "code",
   "execution_count": 1,
   "id": "9cefe100",
   "metadata": {},
   "outputs": [],
   "source": [
    "import numpy as np\n",
    "objects = [(46,3),(84,5),(22,2),(32,2),(76,4),(35,2)]\n",
    "capacity = 10"
   ]
  },
  {
   "cell_type": "markdown",
   "id": "38fbe46a",
   "metadata": {},
   "source": [
    "### Algorithmus (Matrix erstellen)"
   ]
  },
  {
   "cell_type": "code",
   "execution_count": 2,
   "id": "8684b603",
   "metadata": {},
   "outputs": [],
   "source": [
    "def dynamic_prog(objects, capacity):\n",
    "    result = np.zeros((len(objects)+1,capacity+1)).astype(int)\n",
    "    for i in range(len(objects)):\n",
    "        for c in range(1,capacity+1):\n",
    "            if objects[i][1] > c:\n",
    "                result[i+1][c] = result[i][c]\n",
    "            else:\n",
    "                result[i+1][c]= max(result[i][c], result[i][c-objects[i][1]] + objects[i][0])\n",
    "    print(result)\n",
    "    return result\n"
   ]
  },
  {
   "cell_type": "markdown",
   "id": "f15ddeff",
   "metadata": {},
   "source": [
    "### Matrix auswerten"
   ]
  },
  {
   "cell_type": "code",
   "execution_count": 3,
   "id": "977ccc72",
   "metadata": {},
   "outputs": [],
   "source": [
    "def solve(matrix, objects):\n",
    "    result = set()\n",
    "    I,J = matrix.shape\n",
    "    I-= 1\n",
    "    J-= 1\n",
    "    while(I!=0 and J!=0):\n",
    "        if matrix[I][J]==matrix[I-1][J]:\n",
    "            matrix = matrix[:I]\n",
    "            I -= 1\n",
    "            continue\n",
    "        if matrix[I][J] == matrix[I-1][J]:\n",
    "            matrix = matrix[0:I+1][:J]\n",
    "            J -= 1\n",
    "            continue\n",
    "        result.add(I-1)\n",
    "        J -= objects[I-1][1]\n",
    "        I -= 1\n",
    "    return result"
   ]
  },
  {
   "cell_type": "markdown",
   "id": "1740f17f",
   "metadata": {},
   "source": [
    "### Test"
   ]
  },
  {
   "cell_type": "code",
   "execution_count": 4,
   "id": "cb124f23",
   "metadata": {},
   "outputs": [
    {
     "name": "stdout",
     "output_type": "stream",
     "text": [
      "[[  0   0   0   0   0   0   0   0   0   0   0]\n",
      " [  0   0   0  46  46  46  46  46  46  46  46]\n",
      " [  0   0   0  46  46  84  84  84 130 130 130]\n",
      " [  0   0  22  46  46  84  84 106 130 130 152]\n",
      " [  0   0  32  46  54  84  84 116 130 138 162]\n",
      " [  0   0  32  46  76  84 108 122 130 160 162]\n",
      " [  0   0  35  46  76  84 111 122 143 160 165]]\n"
     ]
    }
   ],
   "source": [
    "matrix = dynamic_prog(objects, capacity)"
   ]
  },
  {
   "cell_type": "code",
   "execution_count": 5,
   "id": "c743a071",
   "metadata": {},
   "outputs": [
    {
     "name": "stdout",
     "output_type": "stream",
     "text": [
      "6 10\n"
     ]
    },
    {
     "data": {
      "text/plain": [
       "{0, 1, 5}"
      ]
     },
     "execution_count": 5,
     "metadata": {},
     "output_type": "execute_result"
    }
   ],
   "source": [
    "solve(matrix, objects)"
   ]
  }
 ],
 "metadata": {
  "kernelspec": {
   "display_name": "Python 3 (ipykernel)",
   "language": "python",
   "name": "python3"
  },
  "language_info": {
   "codemirror_mode": {
    "name": "ipython",
    "version": 3
   },
   "file_extension": ".py",
   "mimetype": "text/x-python",
   "name": "python",
   "nbconvert_exporter": "python",
   "pygments_lexer": "ipython3",
   "version": "3.10.6"
  }
 },
 "nbformat": 4,
 "nbformat_minor": 5
}
