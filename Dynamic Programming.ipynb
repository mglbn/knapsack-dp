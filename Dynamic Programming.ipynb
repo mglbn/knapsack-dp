{
 "cells": [
  {
   "cell_type": "markdown",
   "id": "729f38f5",
   "metadata": {},
   "source": [
    "### Problemgroesen:"
   ]
  },
  {
   "cell_type": "code",
   "execution_count": 1,
   "id": "9cefe100",
   "metadata": {},
   "outputs": [],
   "source": [
    "import numpy as np\n",
    "#Objects are represented by a tuple following then (value, weight) scheme\n",
    "objects = [(3,3),(5,7),(2,4),(11,12),(4,8),(6,10),(2,9),(15,14),(12,10),(9,12)]\n",
    "capacity = 60"
   ]
  },
  {
   "cell_type": "markdown",
   "id": "38fbe46a",
   "metadata": {},
   "source": [
    "### Algorithmus (Matrix erstellen)"
   ]
  },
  {
   "cell_type": "code",
   "execution_count": 2,
   "id": "8684b603",
   "metadata": {},
   "outputs": [],
   "source": [
    "def dynamic_prog(objects, capacity):\n",
    "    result = np.zeros((len(objects)+1,capacity+1)).astype(int)\n",
    "    for i in range(len(objects)):\n",
    "        for c in range(1,capacity+1):\n",
    "            if objects[i][1] > c:\n",
    "                result[i+1][c] = result[i][c]\n",
    "            else:\n",
    "                result[i+1][c]= max(result[i][c], result[i][c-objects[i][1]] + objects[i][0])\n",
    "    return result\n"
   ]
  },
  {
   "cell_type": "markdown",
   "id": "f15ddeff",
   "metadata": {},
   "source": [
    "### Matrix auswerten"
   ]
  },
  {
   "cell_type": "code",
   "execution_count": 3,
   "id": "977ccc72",
   "metadata": {},
   "outputs": [],
   "source": [
    "def solve(matrix, objects):\n",
    "    result = set()\n",
    "    I,J = matrix.shape\n",
    "    I-= 1\n",
    "    J-= 1\n",
    "    while(I!=0 and J!=0):\n",
    "        if matrix[I][J]==matrix[I-1][J]:\n",
    "            matrix = matrix[:I]\n",
    "            I -= 1\n",
    "            continue\n",
    "        if matrix[I][J] == matrix[I-1][J]:\n",
    "            matrix = matrix[0:I+1][:J]\n",
    "            J -= 1\n",
    "            continue\n",
    "        result.add(I-1)\n",
    "        J -= objects[I-1][1]\n",
    "        I -= 1\n",
    "    return result"
   ]
  },
  {
   "cell_type": "markdown",
   "id": "1740f17f",
   "metadata": {},
   "source": [
    "### Test"
   ]
  },
  {
   "cell_type": "code",
   "execution_count": 4,
   "id": "cb124f23",
   "metadata": {},
   "outputs": [
    {
     "data": {
      "text/plain": [
       "array([[ 0,  0,  0,  0,  0,  0,  0,  0,  0,  0,  0,  0,  0,  0,  0,  0,\n",
       "         0,  0,  0,  0,  0,  0,  0,  0,  0,  0,  0,  0,  0,  0,  0,  0,\n",
       "         0,  0,  0,  0,  0,  0,  0,  0,  0,  0,  0,  0,  0,  0,  0,  0,\n",
       "         0,  0,  0,  0,  0,  0,  0,  0,  0,  0,  0,  0,  0],\n",
       "       [ 0,  0,  0,  3,  3,  3,  3,  3,  3,  3,  3,  3,  3,  3,  3,  3,\n",
       "         3,  3,  3,  3,  3,  3,  3,  3,  3,  3,  3,  3,  3,  3,  3,  3,\n",
       "         3,  3,  3,  3,  3,  3,  3,  3,  3,  3,  3,  3,  3,  3,  3,  3,\n",
       "         3,  3,  3,  3,  3,  3,  3,  3,  3,  3,  3,  3,  3],\n",
       "       [ 0,  0,  0,  3,  3,  3,  3,  5,  5,  5,  8,  8,  8,  8,  8,  8,\n",
       "         8,  8,  8,  8,  8,  8,  8,  8,  8,  8,  8,  8,  8,  8,  8,  8,\n",
       "         8,  8,  8,  8,  8,  8,  8,  8,  8,  8,  8,  8,  8,  8,  8,  8,\n",
       "         8,  8,  8,  8,  8,  8,  8,  8,  8,  8,  8,  8,  8],\n",
       "       [ 0,  0,  0,  3,  3,  3,  3,  5,  5,  5,  8,  8,  8,  8, 10, 10,\n",
       "        10, 10, 10, 10, 10, 10, 10, 10, 10, 10, 10, 10, 10, 10, 10, 10,\n",
       "        10, 10, 10, 10, 10, 10, 10, 10, 10, 10, 10, 10, 10, 10, 10, 10,\n",
       "        10, 10, 10, 10, 10, 10, 10, 10, 10, 10, 10, 10, 10],\n",
       "       [ 0,  0,  0,  3,  3,  3,  3,  5,  5,  5,  8,  8, 11, 11, 11, 14,\n",
       "        14, 14, 14, 16, 16, 16, 19, 19, 19, 19, 21, 21, 21, 21, 21, 21,\n",
       "        21, 21, 21, 21, 21, 21, 21, 21, 21, 21, 21, 21, 21, 21, 21, 21,\n",
       "        21, 21, 21, 21, 21, 21, 21, 21, 21, 21, 21, 21, 21],\n",
       "       [ 0,  0,  0,  3,  3,  3,  3,  5,  5,  5,  8,  8, 11, 11, 11, 14,\n",
       "        14, 14, 14, 16, 16, 16, 19, 19, 19, 19, 21, 21, 21, 21, 23, 23,\n",
       "        23, 23, 25, 25, 25, 25, 25, 25, 25, 25, 25, 25, 25, 25, 25, 25,\n",
       "        25, 25, 25, 25, 25, 25, 25, 25, 25, 25, 25, 25, 25],\n",
       "       [ 0,  0,  0,  3,  3,  3,  3,  5,  5,  5,  8,  8, 11, 11, 11, 14,\n",
       "        14, 14, 14, 16, 16, 16, 19, 19, 19, 20, 21, 21, 21, 22, 23, 23,\n",
       "        25, 25, 25, 25, 27, 27, 27, 27, 29, 29, 29, 29, 31, 31, 31, 31,\n",
       "        31, 31, 31, 31, 31, 31, 31, 31, 31, 31, 31, 31, 31],\n",
       "       [ 0,  0,  0,  3,  3,  3,  3,  5,  5,  5,  8,  8, 11, 11, 11, 14,\n",
       "        14, 14, 14, 16, 16, 16, 19, 19, 19, 20, 21, 21, 21, 22, 23, 23,\n",
       "        25, 25, 25, 25, 27, 27, 27, 27, 29, 29, 29, 29, 31, 31, 31, 31,\n",
       "        31, 31, 31, 31, 31, 33, 33, 33, 33, 33, 33, 33, 33],\n",
       "       [ 0,  0,  0,  3,  3,  3,  3,  5,  5,  5,  8,  8, 11, 11, 15, 15,\n",
       "        15, 18, 18, 18, 18, 20, 20, 20, 23, 23, 26, 26, 26, 29, 29, 29,\n",
       "        29, 31, 31, 31, 34, 34, 34, 35, 36, 36, 36, 37, 38, 38, 40, 40,\n",
       "        40, 40, 42, 42, 42, 42, 44, 44, 44, 44, 46, 46, 46],\n",
       "       [ 0,  0,  0,  3,  3,  3,  3,  5,  5,  5, 12, 12, 12, 15, 15, 15,\n",
       "        15, 18, 18, 18, 20, 20, 23, 23, 27, 27, 27, 30, 30, 30, 30, 32,\n",
       "        32, 32, 35, 35, 38, 38, 38, 41, 41, 41, 41, 43, 43, 43, 46, 46,\n",
       "        46, 47, 48, 48, 48, 49, 50, 50, 52, 52, 52, 52, 54],\n",
       "       [ 0,  0,  0,  3,  3,  3,  3,  5,  5,  5, 12, 12, 12, 15, 15, 15,\n",
       "        15, 18, 18, 18, 20, 20, 23, 23, 27, 27, 27, 30, 30, 30, 30, 32,\n",
       "        32, 32, 35, 35, 38, 38, 38, 41, 41, 41, 41, 43, 43, 43, 46, 46,\n",
       "        47, 47, 48, 50, 50, 50, 50, 52, 52, 52, 55, 55, 55]])"
      ]
     },
     "execution_count": 4,
     "metadata": {},
     "output_type": "execute_result"
    }
   ],
   "source": [
    "matrix = dynamic_prog(objects, capacity)\n",
    "matrix"
   ]
  },
  {
   "cell_type": "code",
   "execution_count": 5,
   "id": "c743a071",
   "metadata": {},
   "outputs": [
    {
     "data": {
      "text/plain": [
       "{0, 1, 3, 7, 8, 9}"
      ]
     },
     "execution_count": 5,
     "metadata": {},
     "output_type": "execute_result"
    }
   ],
   "source": [
    "solve(matrix, objects)"
   ]
  }
 ],
 "metadata": {
  "kernelspec": {
   "display_name": "Python 3 (ipykernel)",
   "language": "python",
   "name": "python3"
  },
  "language_info": {
   "codemirror_mode": {
    "name": "ipython",
    "version": 3
   },
   "file_extension": ".py",
   "mimetype": "text/x-python",
   "name": "python",
   "nbconvert_exporter": "python",
   "pygments_lexer": "ipython3",
   "version": "3.10.6"
  }
 },
 "nbformat": 4,
 "nbformat_minor": 5
}
